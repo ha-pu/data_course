{
  "nbformat": 4,
  "nbformat_minor": 0,
  "metadata": {
    "colab": {
      "provenance": [],
      "authorship_tag": "ABX9TyN32YnVDkBH6+AOyEXOXkIM",
      "include_colab_link": true
    },
    "kernelspec": {
      "name": "ir",
      "display_name": "R"
    },
    "language_info": {
      "name": "R"
    }
  },
  "cells": [
    {
      "cell_type": "markdown",
      "metadata": {
        "id": "view-in-github",
        "colab_type": "text"
      },
      "source": [
        "<a href=\"https://colab.research.google.com/github/ha-pu/data_course/blob/Google_Colab/1_hello_world.ipynb\" target=\"_parent\"><img src=\"https://colab.research.google.com/assets/colab-badge.svg\" alt=\"Open In Colab\"/></a>"
      ]
    },
    {
      "cell_type": "markdown",
      "source": [
        "+ title: \"Hello World!\"\n",
        "+ author: Harald Puhr\n",
        "+ date: \"April 1, 2025\"\n",
        "\n",
        "# 1. Hello World!\n",
        "\n",
        "This code snippet demonstrates a simple \"Hello World!\" program in R.\n",
        "It prints the message \"Hello World!\" to the console."
      ],
      "metadata": {
        "id": "aaiDKLvmk0jS"
      }
    },
    {
      "cell_type": "code",
      "execution_count": null,
      "metadata": {
        "id": "HiFo8P9Mkq2H"
      },
      "outputs": [],
      "source": [
        "print(\"Hello World!\")"
      ]
    },
    {
      "cell_type": "markdown",
      "source": [
        "# 2. Load tidyverse library\n",
        "\n",
        "This code snippet loads the \"tidyverse\" library, which is a collection of R\n",
        "packages designed for data science. The \"tidyverse\" includes packages like\n",
        "ggplot2, dplyr, tidyr, readr, purrr, and others, providing tools for data\n",
        "manipulation, visualization, and analysis."
      ],
      "metadata": {
        "id": "UNenjR8ElG0k"
      }
    },
    {
      "cell_type": "code",
      "source": [
        "install.packages(\"tidyverse\")"
      ],
      "metadata": {
        "colab": {
          "base_uri": "https://localhost:8080/"
        },
        "id": "lZMGrTW6lHov",
        "outputId": "ef78d6b3-0b48-4ef9-80cc-62321e1060aa"
      },
      "execution_count": 1,
      "outputs": [
        {
          "output_type": "stream",
          "name": "stderr",
          "text": [
            "Installing package into ‘/usr/local/lib/R/site-library’\n",
            "(as ‘lib’ is unspecified)\n",
            "\n"
          ]
        }
      ]
    },
    {
      "cell_type": "code",
      "source": [
        "library(tidyverse)"
      ],
      "metadata": {
        "id": "Zo9Qq1kRlKxE"
      },
      "execution_count": null,
      "outputs": []
    },
    {
      "cell_type": "markdown",
      "source": [
        "# 3. Basic data generation and summary\n",
        "\n",
        "## 3.1 Generate a data frame with random data\n",
        "\n",
        "This code snippet generates a tibble (data frame) with 1000 rows and 5 columns:\n",
        "\n",
        "+ var1: Numeric vector with 1000 random values drawn from a standard normal distribution.\n",
        "+ var2: Numeric vector with 1000 random values drawn from a standard normal distribution.\n",
        "+ var3: Numeric vector with 1000 random values drawn from a standard normal distribution.\n",
        "+ var4: Character vector with 1000 random values sampled from the letters 'a', 'b', 'c', and 'd'.\n",
        "+ var5: Logical vector with 1000 random TRUE or FALSE values.\n",
        "\n"
      ],
      "metadata": {
        "id": "E1LlUx-ulPkt"
      }
    },
    {
      "cell_type": "code",
      "source": [
        "df <- tibble(\n",
        "    var1 = rnorm(1000),\n",
        "    var2 = rnorm(1000),\n",
        "    var3 = rnorm(1000),\n",
        "    var4 = sample(letters[1:4], 1000, replace = TRUE),\n",
        "    var5 = sample(c(TRUE, FALSE), 1000, replace = TRUE)\n",
        ")"
      ],
      "metadata": {
        "id": "36ZtiwUIlhBS"
      },
      "execution_count": null,
      "outputs": []
    },
    {
      "cell_type": "markdown",
      "source": [
        "## 3.2 Summary\n",
        "\n",
        "This code snippted shows the contents of the df:\n",
        "\n",
        "+ `slice_head(df, n = 10)`: Displays the first 10 rows of the dataframe `df`.\n",
        "+ `slice_max(df, var1, n = 10)`: Selects the top 10 rows of `df` based on the maximum values of the variable `var1`.\n",
        "+ `slice_min(df, var1, n = 10)`: Selects the top 10 rows of `df` based on the minimum values of the variable `var1`.\n",
        "+ `slice_sample(df, n = 10)`: Randomly selects 10 rows from the dataframe `df`.\n",
        "+ `slice_tail(df, n = 10)`: Displays the last 10 rows of the dataframe `df`."
      ],
      "metadata": {
        "id": "oU2Q8BtBlqox"
      }
    },
    {
      "cell_type": "code",
      "source": [
        "slice_head(df, n = 10)\n",
        "slice_max(df, order_by = var1, n = 10)\n",
        "slice_min(df, order_by = var1, n = 10)\n",
        "slice_sample(df, n = 10)\n",
        "slice_tail(df, n = 10)"
      ],
      "metadata": {
        "id": "UZdVuLgKlt9I"
      },
      "execution_count": null,
      "outputs": []
    },
    {
      "cell_type": "markdown",
      "source": [
        "This code snippet provides a summary of the data frame `df` using the\n",
        "`summary()` function. The `summary()` function generates descriptive statistics\n",
        "for each column in the data frame, including measures such as minimum, maximum,\n",
        "mean, median, and quartiles for numeric columns, and frequency counts for\n",
        "categorical columns."
      ],
      "metadata": {
        "id": "13DoXs7dlwQe"
      }
    },
    {
      "cell_type": "code",
      "source": [
        "summary(df)"
      ],
      "metadata": {
        "id": "pRniC8J4lzin"
      },
      "execution_count": null,
      "outputs": []
    },
    {
      "cell_type": "markdown",
      "source": [
        "## 3.3 Data visualization\n",
        "\n",
        "This code snippet generates a scatter plot using ggplot2.\n",
        "+ The data frame `df` is piped into the ggplot function.\n",
        "+ A scatter plot is created with `geom_point`, mapping `var1` to the x-axis and `var2` to the y-axis.\n",
        "The `%>%` operator is used to pipe the dataframe into the `summarise` function for computation."
      ],
      "metadata": {
        "id": "FSsYqN00l1F5"
      }
    },
    {
      "cell_type": "code",
      "source": [
        "df %>%\n",
        "    ggplot() +\n",
        "    geom_point(aes(x = var1, y = var2))"
      ],
      "metadata": {
        "id": "qiwPtf-el62Q"
      },
      "execution_count": null,
      "outputs": []
    },
    {
      "cell_type": "markdown",
      "source": [
        "This code snippet creates a scatter plot using ggplot2 in R.\n",
        "\n",
        "+ The data frame `df` is piped into the ggplot function.\n",
        "+ `geom_point()` is used to add points to the plot.\n",
        "+ Aesthetic mappings (`aes`) specify:\n",
        "    + `x`: the variable `var1` for the x-axis.\n",
        "    + `y`: the variable `var2` for the y-axis.\n",
        "    + `color`: the variable `var4` to determine the color of the points."
      ],
      "metadata": {
        "id": "1zKl5MKQl8gx"
      }
    },
    {
      "cell_type": "code",
      "source": [
        "df %>%\n",
        "    ggplot() +\n",
        "    geom_point(aes(x = var1, y = var2, color = var4))"
      ],
      "metadata": {
        "id": "Zs3F-6KOmBXv"
      },
      "execution_count": null,
      "outputs": []
    },
    {
      "cell_type": "markdown",
      "source": [
        "This code snippet generates a boxplot using ggplot2 in R. It creates a boxplot\n",
        "with `geom_boxplot`, mapping `var5` to the x-axis and `var1` to the y-axis."
      ],
      "metadata": {
        "id": "LEZJgVW-l_26"
      }
    },
    {
      "cell_type": "code",
      "source": [
        "df %>%\n",
        "    ggplot() +\n",
        "    geom_boxplot(aes(x = var5, y = var1))"
      ],
      "metadata": {
        "id": "ClmsCXzcmEsV"
      },
      "execution_count": null,
      "outputs": []
    },
    {
      "cell_type": "markdown",
      "source": [
        "## 3.4 Custom summaries\n",
        "\n",
        "This code snippet snippet performs a summary of the `var1` column in the\n",
        "dataframe `df`. It calculates the following statistical measures:\n",
        "\n",
        "+ `min`: The minimum value of `var1`.\n",
        "+ `q25`: The 25th percentile (first quartile) of `var1`.\n",
        "+ `mean`: The mean (average) value of `var1`.\n",
        "+ `median`: The median (50th percentile) of `var1`.\n",
        "+ `q75`: The 75th percentile (third quartile) of `var1`.\n",
        "+ `max`: The maximum value of `var1`.\n",
        "+ `sd`: The standard deviation of `var1`."
      ],
      "metadata": {
        "id": "ub2_wgFGmH2s"
      }
    },
    {
      "cell_type": "code",
      "source": [
        "df %>%\n",
        "    summarise(\n",
        "        min = min(var1),\n",
        "        q25 = quantile(var1, 0.25),\n",
        "        mean = mean(var1),\n",
        "        median = median(var1),\n",
        "        q75 = quantile(var1, 0.75),\n",
        "        max = max(var1),\n",
        "        sd = sd(var1)\n",
        "    )"
      ],
      "metadata": {
        "id": "b5TvDaeemKAX"
      },
      "execution_count": null,
      "outputs": []
    },
    {
      "cell_type": "markdown",
      "source": [
        "This code snippet performs a summary operation on a data frame `df` using the\n",
        "`dplyr` package. It calculates the following summary statistics for the variable\n",
        "`var1`, grouped by `var4`:\n",
        "\n",
        "+ Minimum value (`min`)\n",
        "+ First quartile (25th percentile, `q25`)\n",
        "+ Mean value (`mean`)\n",
        "+ Median value (`median`)\n",
        "+ Third quartile (75th percentile, `q75`)\n",
        "+ Maximum value (`max`)\n",
        "+ Standard deviation (`sd`)\n",
        "\n",
        "The `.by` argument specifies that the summary statistics are computed for each\n",
        "group defined by `var4`."
      ],
      "metadata": {
        "id": "yOGRGfP3mMTV"
      }
    },
    {
      "cell_type": "code",
      "source": [
        "df %>%\n",
        "    summarise(\n",
        "        min = min(var1),\n",
        "        q25 = quantile(var1, 0.25),\n",
        "        mean = mean(var1),\n",
        "        median = median(var1),\n",
        "        q75 = quantile(var1, 0.75),\n",
        "        max = max(var1),\n",
        "        sd = sd(var1),\n",
        "        .by = var4\n",
        "    )"
      ],
      "metadata": {
        "id": "8UZkk72NmOoD"
      },
      "execution_count": null,
      "outputs": []
    },
    {
      "cell_type": "markdown",
      "source": [
        "This script calculates the correlation between two variables (var1 and var2)\n",
        "from a data frame (df). The `cor` function is used to compute the correlation\n",
        "coefficient, which measures the strength and direction of the linear\n",
        "relationship between the two variables."
      ],
      "metadata": {
        "id": "w0loKVZDmQ1t"
      }
    },
    {
      "cell_type": "code",
      "source": [
        "cor(df$var1, df$var2)"
      ],
      "metadata": {
        "id": "EAcF0JdamQdD"
      },
      "execution_count": null,
      "outputs": []
    },
    {
      "cell_type": "markdown",
      "source": [
        "This code snippet calculates the correlation matrix for all numeric columns in a data frame `df`.\n",
        "It performs the following steps:\n",
        "1. Uses the `select()` function with `where(is.numeric)` to filter and select only numeric columns from `df`.\n",
        "2. Passes the selected numeric columns to the `cor()` function to compute the correlation matrix."
      ],
      "metadata": {
        "id": "Rmjcoi1OmU2l"
      }
    },
    {
      "cell_type": "code",
      "source": [
        "df %>%\n",
        "    select(where(is.numeric)) %>%\n",
        "    cor()"
      ],
      "metadata": {
        "id": "aBcr-jsVmW8l"
      },
      "execution_count": null,
      "outputs": []
    },
    {
      "cell_type": "markdown",
      "source": [
        "This code snippet uses the `count` function from the `dplyr` package to count\n",
        "the occurrences of unique combinations of the variable `var4` in the dataframe `df`."
      ],
      "metadata": {
        "id": "4_aY__jymZt8"
      }
    },
    {
      "cell_type": "code",
      "source": [
        "df %>%\n",
        "    count(var4)"
      ],
      "metadata": {
        "id": "q5LHUhrpmbu_"
      },
      "execution_count": null,
      "outputs": []
    },
    {
      "cell_type": "markdown",
      "source": [
        "This code snippet uses the `count` function from the `dplyr` package to count\n",
        "the occurrences of unique combinations of the variables `var4` and `var5`\n",
        "in the dataframe `df`."
      ],
      "metadata": {
        "id": "APwQOLiXmd2e"
      }
    },
    {
      "cell_type": "code",
      "source": [
        "df %>%\n",
        "    count(var4, var5)"
      ],
      "metadata": {
        "id": "7OWbz3MLmf05"
      },
      "execution_count": null,
      "outputs": []
    },
    {
      "cell_type": "markdown",
      "source": [
        "## 3.5 Data manipulation\n",
        "\n",
        "This script performs data manipulation on a dataframe `df` using the `dplyr` package.\n",
        "It creates two new variables:\n",
        "1. `var6`: The sum of `var1` and `var2`.\n",
        "2. `var7`: The square of `var6` added to `var1`.\n",
        "Then, it stores the modified dataframe in a new dataframe `df2`."
      ],
      "metadata": {
        "id": "gw2hYKTvmiEN"
      }
    },
    {
      "cell_type": "code",
      "source": [
        "df2 <- df %>%\n",
        "    mutate(var6 = var1 + var2) %>%\n",
        "    mutate(var7 = var6^2 + var1)"
      ],
      "metadata": {
        "id": "msH145j4mkOB"
      },
      "execution_count": null,
      "outputs": []
    },
    {
      "cell_type": "markdown",
      "source": [
        "# 4. Exercises\n",
        "\n",
        "Try to solve these exercises yourself before looking at the solutions below.\n",
        "\n",
        "## Exercise 1: Create a new dataframe\n",
        "\n",
        "1.1 Create a new dataframe df3 with the following columns:\n",
        "    + var1: Numeric vector with 2000 random values drawn from a standard normal distribution (`rnorm`).\n",
        "    + var2: Numeric vector with 2000 random values drawn from a uniform distribution (`runif`).\n",
        "    + var3: Categorical vector with 2000 random values sampled from the letters 'a' to 'h'.\n",
        "1.2 Add a column var4 that represents the product of var1 and var2.\n",
        "1.3 Use the `summary()` function to explore the dataframe.\n",
        "1.4 Use the `summarise()` function to calculate the mean and standard deviation of var4.\n",
        "1.5 Use the `summarise()` function to calculate the mean and standard deviation of var4 grouped by var3.\n",
        "\n",
        "## Exercise 2: Visualize the data\n",
        "\n",
        "Use the dataframe df3 created in Exercise 1 to create the following\n",
        "visualizations:\n",
        "\n",
        "2.1 Create a scatter plot of var1 vs var2.\n",
        "2.2 Create a scatter plot of var1 vs var2, colored by var3.\n",
        "2.3 Create a boxplot of var4 grouped by var3.\n",
        "2.4 Create a histogram of var4 (geom_histogram).\n",
        "\n",
        "## Exercise 3: Data descriptives\n",
        "\n",
        "Use the dataframe df3 created in Exercise 1 for the following tasks:\n",
        "\n",
        "3.1 Get the maximum value of var4.\n",
        "3.2 Get the minimum value of var1.\n",
        "3.3 Get the median value of var2.\n",
        "3.4 Get the correlation between var1 and var2.\n",
        "3.5 Get the correlation matrix for all numeric columns in df3.\n",
        "3.6 Count the number of unique values in var3.\n",
        "\n",
        "## Exercise 4: Data slicing\n",
        "\n",
        "Use the dataframe df3 created in Exercise 1 for the following tasks:\n",
        "\n",
        "4.1 Get the first 10 rows of df3.\n",
        "4.2 Get the last 10 rows of df3.\n",
        "4.3 Get a random sample of 10 rows from df3.\n",
        "4.4 Get the top 10 rows of df3 based on the maximum values of var1.\n",
        "4.5 Get the bottom 10 rows of df3 based on the minimum values of var4.\n",
        "\n",
        "## Solution 1: Create a new dataframe\n",
        "\n",
        "### Exercise 1.1"
      ],
      "metadata": {
        "id": "8v_LsdGwmnko"
      }
    },
    {
      "cell_type": "code",
      "source": [
        "df3 <- tibble(\n",
        "    var1 = rnorm(2000),\n",
        "    var2 = runif(2000),\n",
        "    var3 = sample(letters[1:8], 2000, replace = TRUE)\n",
        ")"
      ],
      "metadata": {
        "id": "FwcbyBqVmuST"
      },
      "execution_count": null,
      "outputs": []
    },
    {
      "cell_type": "markdown",
      "source": [
        "### Exercise 1.2"
      ],
      "metadata": {
        "id": "rWB0bFQMmwIX"
      }
    },
    {
      "cell_type": "code",
      "source": [
        "df3 <- df3 %>%\n",
        "    mutate(var4 = var1 * var2)"
      ],
      "metadata": {
        "id": "7DVriurmmyw3"
      },
      "execution_count": null,
      "outputs": []
    },
    {
      "cell_type": "markdown",
      "source": [
        "### Exercise 1.3"
      ],
      "metadata": {
        "id": "xigbWdFim1f8"
      }
    },
    {
      "cell_type": "code",
      "source": [
        "summary(df3)"
      ],
      "metadata": {
        "id": "z1sdBekdm4pH"
      },
      "execution_count": null,
      "outputs": []
    },
    {
      "cell_type": "markdown",
      "source": [
        "### Exercise 1.4"
      ],
      "metadata": {
        "id": "evDgz0lAm6Ll"
      }
    },
    {
      "cell_type": "code",
      "source": [
        "df3 %>%\n",
        "    summarise(\n",
        "        mean = mean(var4),\n",
        "        sd = sd(var4)\n",
        "    )"
      ],
      "metadata": {
        "id": "16TW8qWIm8fA"
      },
      "execution_count": null,
      "outputs": []
    },
    {
      "cell_type": "markdown",
      "source": [
        "### Exercise 1.5"
      ],
      "metadata": {
        "id": "7ChSrp62m_lu"
      }
    },
    {
      "cell_type": "code",
      "source": [
        "df3 %>%\n",
        "    summarise(\n",
        "        mean = mean(var4),\n",
        "        sd = sd(var4),\n",
        "        .by = var3\n",
        "    )"
      ],
      "metadata": {
        "id": "rFAEKBuZnBnR"
      },
      "execution_count": null,
      "outputs": []
    },
    {
      "cell_type": "markdown",
      "source": [
        "## Solution 2: Visualize the data\n",
        "\n",
        "### Exercise 2.1"
      ],
      "metadata": {
        "id": "FFXKdxVknEpN"
      }
    },
    {
      "cell_type": "code",
      "source": [
        "df3 %>%\n",
        "    ggplot() +\n",
        "    geom_point(aes(x = var1, y = var2))"
      ],
      "metadata": {
        "id": "5Kj-gD2jnKRM"
      },
      "execution_count": null,
      "outputs": []
    },
    {
      "cell_type": "markdown",
      "source": [
        "### Exercise 2.2"
      ],
      "metadata": {
        "id": "XrL7xZPkdGjU"
      }
    },
    {
      "cell_type": "code",
      "source": [
        "df3 %>%\n",
        "    ggplot() +\n",
        "    geom_point(aes(x = var1, y = var2, color = var3))"
      ],
      "metadata": {
        "id": "R_zwCKAadJJ2"
      },
      "execution_count": null,
      "outputs": []
    },
    {
      "cell_type": "markdown",
      "source": [
        "### Exercise 2.3"
      ],
      "metadata": {
        "id": "9xRbDbSRdLUB"
      }
    },
    {
      "cell_type": "code",
      "source": [
        "df3 %>%\n",
        "    ggplot() +\n",
        "    geom_boxplot(aes(x = var3, y = var4))"
      ],
      "metadata": {
        "id": "hXmjoti1dNi_"
      },
      "execution_count": null,
      "outputs": []
    },
    {
      "cell_type": "markdown",
      "source": [
        "### Exercise 2.4"
      ],
      "metadata": {
        "id": "3mIYq8XbhJ_i"
      }
    },
    {
      "cell_type": "code",
      "source": [
        "df3 %>%\n",
        "    ggplot() +\n",
        "    geom_histogram(aes(x = var4))"
      ],
      "metadata": {
        "id": "iU1DCHD4hMgW"
      },
      "execution_count": null,
      "outputs": []
    },
    {
      "cell_type": "markdown",
      "source": [
        "## Solution 3: Data descriptives\n",
        "\n",
        "### Exercise 3.1"
      ],
      "metadata": {
        "id": "QqLO2NjDhOkG"
      }
    },
    {
      "cell_type": "code",
      "source": [
        "max(df3$var4)\n",
        "df3 %>%\n",
        "    summarise(max = max(var4))"
      ],
      "metadata": {
        "id": "ymVisCuChRAd"
      },
      "execution_count": null,
      "outputs": []
    },
    {
      "cell_type": "markdown",
      "source": [
        "### Exercise 3.2"
      ],
      "metadata": {
        "id": "kh1BYlqqhVOB"
      }
    },
    {
      "cell_type": "code",
      "source": [
        "min(df3$var1)\n",
        "df3 %>%\n",
        "    summarise(min = min(var1))"
      ],
      "metadata": {
        "id": "59irHuZ5hXkR"
      },
      "execution_count": null,
      "outputs": []
    },
    {
      "cell_type": "markdown",
      "source": [
        "### Exercise 3.3"
      ],
      "metadata": {
        "id": "QZVSrms8hZev"
      }
    },
    {
      "cell_type": "code",
      "source": [
        "median(df3$var2)\n",
        "df3 %>%\n",
        "    summarise(median = median(var2))"
      ],
      "metadata": {
        "id": "brvAs-wRhb2r"
      },
      "execution_count": null,
      "outputs": []
    },
    {
      "cell_type": "markdown",
      "source": [
        "### Exercise 3.4"
      ],
      "metadata": {
        "id": "6e15yo3thg78"
      }
    },
    {
      "cell_type": "code",
      "source": [
        "cor(df3$var1, df3$var2)\n",
        "df3 %>%\n",
        "    select(var1, var2) %>%\n",
        "    cor()"
      ],
      "metadata": {
        "id": "AqEv9EJRhjj0"
      },
      "execution_count": null,
      "outputs": []
    },
    {
      "cell_type": "markdown",
      "source": [
        "### Exercise 3.5"
      ],
      "metadata": {
        "id": "YXNs61Y7hljy"
      }
    },
    {
      "cell_type": "code",
      "source": [
        "df3 %>%\n",
        "    select(where(is.numeric)) %>%\n",
        "    cor()"
      ],
      "metadata": {
        "id": "8ldM3TpEhtCg"
      },
      "execution_count": null,
      "outputs": []
    },
    {
      "cell_type": "markdown",
      "source": [
        "### Exercise 3.6"
      ],
      "metadata": {
        "id": "yJuoTNxXhu0u"
      }
    },
    {
      "cell_type": "code",
      "source": [
        "df3 %>%\n",
        "    count(var3)"
      ],
      "metadata": {
        "id": "tZnIRzKchwwg"
      },
      "execution_count": null,
      "outputs": []
    },
    {
      "cell_type": "markdown",
      "source": [
        "## Solution 4: Data slicing\n",
        "\n",
        "### Exercise 4.1"
      ],
      "metadata": {
        "id": "EKmXni-DiDL0"
      }
    },
    {
      "cell_type": "code",
      "source": [
        "df3 %>%\n",
        "    slice_head(n = 10)"
      ],
      "metadata": {
        "id": "j9jQcpN1iFoZ"
      },
      "execution_count": null,
      "outputs": []
    },
    {
      "cell_type": "markdown",
      "source": [
        "### Exercise 4.2"
      ],
      "metadata": {
        "id": "86jf0VkZiNTy"
      }
    },
    {
      "cell_type": "code",
      "source": [
        "df3 %>%\n",
        "    slice_tail(n = 10)"
      ],
      "metadata": {
        "id": "PCoSnIXSiPXb"
      },
      "execution_count": null,
      "outputs": []
    },
    {
      "cell_type": "markdown",
      "source": [
        "### Exercise 4.3"
      ],
      "metadata": {
        "id": "aDDOIIc5iVje"
      }
    },
    {
      "cell_type": "code",
      "source": [
        "df3 %>%\n",
        "    slice_sample(n = 10)"
      ],
      "metadata": {
        "id": "hz67upKviSnR"
      },
      "execution_count": null,
      "outputs": []
    },
    {
      "cell_type": "markdown",
      "source": [
        "### Exercise 4.4"
      ],
      "metadata": {
        "id": "UjdAgeO8iZxq"
      }
    },
    {
      "cell_type": "code",
      "source": [
        "df3 %>%\n",
        "    slice_max(order_by = var1, n = 10)"
      ],
      "metadata": {
        "id": "9Fw80cEgmr3c"
      },
      "execution_count": null,
      "outputs": []
    },
    {
      "cell_type": "markdown",
      "source": [
        "### Exercise 4.5"
      ],
      "metadata": {
        "id": "6-2Jq-B8lTwK"
      }
    },
    {
      "cell_type": "code",
      "source": [
        "df3 %>%\n",
        "    slice_min(order_by = var4, n = 10)"
      ],
      "metadata": {
        "id": "FqPtwYtJlQux"
      },
      "execution_count": null,
      "outputs": []
    }
  ]
}