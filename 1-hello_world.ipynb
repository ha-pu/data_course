{
  "cells": [
    {
      "cell_type": "markdown",
      "metadata": {
        "colab_type": "text",
        "id": "view-in-github"
      },
      "source": [
        "<a href=\"https://colab.research.google.com/github/ha-pu/data_course/blob/Google_Colab/1_hello_world.ipynb\" target=\"_parent\"><img src=\"https://colab.research.google.com/assets/colab-badge.svg\" alt=\"Open In Colab\"/></a>"
      ]
    },
    {
      "cell_type": "markdown",
      "metadata": {
        "id": "aaiDKLvmk0jS"
      },
      "source": [
        "+ title: Hello World!\n",
        "+ author: Harald Puhr\n",
        "+ date: April 21, 2025\n",
        "\n",
        "# 1. Hello World!\n",
        "\n",
        "This code snippet demonstrates a simple \"Hello World!\" program in R.\n",
        "It prints the message \"Hello World!\" to the console."
      ]
    },
    {
      "cell_type": "code",
      "execution_count": null,
      "metadata": {
        "id": "HiFo8P9Mkq2H",
        "vscode": {
          "languageId": "r"
        }
      },
      "outputs": [],
      "source": [
        "print(\"Hello World!\")"
      ]
    },
    {
      "cell_type": "markdown",
      "metadata": {
        "id": "UNenjR8ElG0k"
      },
      "source": [
        "# 2. Load tidyverse library\n",
        "\n",
        "This code snippet loads the \"tidyverse\" library, which is a collection of R\n",
        "packages designed for data science. The \"tidyverse\" includes packages like\n",
        "ggplot2, dplyr, tidyr, readr, purrr, and others, providing tools for data\n",
        "manipulation, visualization, and analysis."
      ]
    },
    {
      "cell_type": "code",
      "execution_count": null,
      "metadata": {
        "colab": {
          "base_uri": "https://localhost:8080/"
        },
        "id": "lZMGrTW6lHov",
        "outputId": "ef78d6b3-0b48-4ef9-80cc-62321e1060aa",
        "vscode": {
          "languageId": "r"
        }
      },
      "outputs": [],
      "source": [
        "install.packages(\"tidyverse\")"
      ]
    },
    {
      "cell_type": "code",
      "execution_count": null,
      "metadata": {
        "id": "Zo9Qq1kRlKxE",
        "vscode": {
          "languageId": "r"
        }
      },
      "outputs": [],
      "source": [
        "library(tidyverse)"
      ]
    },
    {
      "cell_type": "markdown",
      "metadata": {
        "id": "E1LlUx-ulPkt"
      },
      "source": [
        "# 3. Basic data generation and summary\n",
        "\n",
        "## 3.1 Generate a data frame with random data\n",
        "\n",
        "This code snippet generates a tibble (data frame) with 1000 rows and 5 columns:\n",
        "\n",
        "+ var1: Numeric vector with 1000 random values drawn from a standard normal distribution.\n",
        "+ var2: Numeric vector with 1000 random values drawn from a standard normal distribution.\n",
        "+ var3: Numeric vector with 1000 random values drawn from a standard normal distribution.\n",
        "+ var4: Character vector with 1000 random values sampled from the letters 'a', 'b', 'c', and 'd'.\n",
        "+ var5: Logical vector with 1000 random TRUE or FALSE values.\n",
        "\n"
      ]
    },
    {
      "cell_type": "code",
      "execution_count": null,
      "metadata": {
        "id": "36ZtiwUIlhBS",
        "vscode": {
          "languageId": "r"
        }
      },
      "outputs": [],
      "source": [
        "df <- tibble(\n",
        "    var1 = rnorm(1000),\n",
        "    var2 = rnorm(1000),\n",
        "    var3 = rnorm(1000),\n",
        "    var4 = sample(letters[1:4], 1000, replace = TRUE),\n",
        "    var5 = sample(c(TRUE, FALSE), 1000, replace = TRUE)\n",
        ")"
      ]
    },
    {
      "cell_type": "markdown",
      "metadata": {
        "id": "oU2Q8BtBlqox"
      },
      "source": [
        "## 3.2 Summary\n",
        "\n",
        "This code snippted shows the contents of the df:\n",
        "\n",
        "+ `slice_head(df, n = 10)`: Displays the first 10 rows of the dataframe `df`.\n",
        "+ `slice_max(df, var1, n = 10)`: Selects the top 10 rows of `df` based on the maximum values of the variable `var1`.\n",
        "+ `slice_min(df, var1, n = 10)`: Selects the top 10 rows of `df` based on the minimum values of the variable `var1`.\n",
        "+ `slice_sample(df, n = 10)`: Randomly selects 10 rows from the dataframe `df`.\n",
        "+ `slice_tail(df, n = 10)`: Displays the last 10 rows of the dataframe `df`."
      ]
    },
    {
      "cell_type": "code",
      "execution_count": null,
      "metadata": {
        "id": "UZdVuLgKlt9I",
        "vscode": {
          "languageId": "r"
        }
      },
      "outputs": [],
      "source": [
        "slice_head(df, n = 10)\n",
        "slice_max(df, order_by = var1, n = 10)\n",
        "slice_min(df, order_by = var1, n = 10)\n",
        "slice_sample(df, n = 10)\n",
        "slice_tail(df, n = 10)"
      ]
    },
    {
      "cell_type": "markdown",
      "metadata": {
        "id": "13DoXs7dlwQe"
      },
      "source": [
        "This code snippet provides a summary of the data frame `df` using the\n",
        "`summary()` function. The `summary()` function generates descriptive statistics\n",
        "for each column in the data frame, including measures such as minimum, maximum,\n",
        "mean, median, and quartiles for numeric columns, and frequency counts for\n",
        "categorical columns."
      ]
    },
    {
      "cell_type": "code",
      "execution_count": null,
      "metadata": {
        "id": "pRniC8J4lzin",
        "vscode": {
          "languageId": "r"
        }
      },
      "outputs": [],
      "source": [
        "summary(df)"
      ]
    },
    {
      "cell_type": "markdown",
      "metadata": {
        "id": "FSsYqN00l1F5"
      },
      "source": [
        "## 3.3 Data visualization\n",
        "\n",
        "This code snippet generates a scatter plot using ggplot2.\n",
        "+ The data frame `df` is piped into the ggplot function.\n",
        "+ A scatter plot is created with `geom_point`, mapping `var1` to the x-axis and `var2` to the y-axis.\n",
        "The `%>%` operator is used to pipe the dataframe into the `summarise` function for computation."
      ]
    },
    {
      "cell_type": "code",
      "execution_count": null,
      "metadata": {
        "id": "qiwPtf-el62Q",
        "vscode": {
          "languageId": "r"
        }
      },
      "outputs": [],
      "source": [
        "df %>%\n",
        "    ggplot() +\n",
        "    geom_point(aes(x = var1, y = var2))"
      ]
    },
    {
      "cell_type": "markdown",
      "metadata": {
        "id": "1zKl5MKQl8gx"
      },
      "source": [
        "This code snippet creates a scatter plot using ggplot2 in R.\n",
        "\n",
        "+ The data frame `df` is piped into the ggplot function.\n",
        "+ `geom_point()` is used to add points to the plot.\n",
        "+ Aesthetic mappings (`aes`) specify:\n",
        "    + `x`: the variable `var1` for the x-axis.\n",
        "    + `y`: the variable `var2` for the y-axis.\n",
        "    + `color`: the variable `var4` to determine the color of the points."
      ]
    },
    {
      "cell_type": "code",
      "execution_count": null,
      "metadata": {
        "id": "Zs3F-6KOmBXv",
        "vscode": {
          "languageId": "r"
        }
      },
      "outputs": [],
      "source": [
        "df %>%\n",
        "    ggplot() +\n",
        "    geom_point(aes(x = var1, y = var2, color = var4))"
      ]
    },
    {
      "cell_type": "markdown",
      "metadata": {
        "id": "LEZJgVW-l_26"
      },
      "source": [
        "This code snippet generates a boxplot using ggplot2 in R. It creates a boxplot\n",
        "with `geom_boxplot`, mapping `var5` to the x-axis and `var1` to the y-axis."
      ]
    },
    {
      "cell_type": "code",
      "execution_count": null,
      "metadata": {
        "id": "ClmsCXzcmEsV",
        "vscode": {
          "languageId": "r"
        }
      },
      "outputs": [],
      "source": [
        "df %>%\n",
        "    ggplot() +\n",
        "    geom_boxplot(aes(x = var5, y = var1))"
      ]
    },
    {
      "cell_type": "markdown",
      "metadata": {
        "id": "ub2_wgFGmH2s"
      },
      "source": [
        "## 3.4 Custom summaries\n",
        "\n",
        "This code snippet snippet performs a summary of the `var1` column in the\n",
        "dataframe `df`. It calculates the following statistical measures:\n",
        "\n",
        "+ `min`: The minimum value of `var1`.\n",
        "+ `q25`: The 25th percentile (first quartile) of `var1`.\n",
        "+ `mean`: The mean (average) value of `var1`.\n",
        "+ `median`: The median (50th percentile) of `var1`.\n",
        "+ `q75`: The 75th percentile (third quartile) of `var1`.\n",
        "+ `max`: The maximum value of `var1`.\n",
        "+ `sd`: The standard deviation of `var1`."
      ]
    },
    {
      "cell_type": "code",
      "execution_count": null,
      "metadata": {
        "id": "b5TvDaeemKAX",
        "vscode": {
          "languageId": "r"
        }
      },
      "outputs": [],
      "source": [
        "df %>%\n",
        "    summarise(\n",
        "        min = min(var1),\n",
        "        q25 = quantile(var1, 0.25),\n",
        "        mean = mean(var1),\n",
        "        median = median(var1),\n",
        "        q75 = quantile(var1, 0.75),\n",
        "        max = max(var1),\n",
        "        sd = sd(var1)\n",
        "    )"
      ]
    },
    {
      "cell_type": "markdown",
      "metadata": {
        "id": "yOGRGfP3mMTV"
      },
      "source": [
        "This code snippet performs a summary operation on a data frame `df` using the\n",
        "`dplyr` package. It calculates the following summary statistics for the variable\n",
        "`var1`, grouped by `var4`:\n",
        "\n",
        "+ Minimum value (`min`)\n",
        "+ First quartile (25th percentile, `q25`)\n",
        "+ Mean value (`mean`)\n",
        "+ Median value (`median`)\n",
        "+ Third quartile (75th percentile, `q75`)\n",
        "+ Maximum value (`max`)\n",
        "+ Standard deviation (`sd`)\n",
        "\n",
        "The `.by` argument specifies that the summary statistics are computed for each\n",
        "group defined by `var4`."
      ]
    },
    {
      "cell_type": "code",
      "execution_count": null,
      "metadata": {
        "id": "8UZkk72NmOoD",
        "vscode": {
          "languageId": "r"
        }
      },
      "outputs": [],
      "source": [
        "df %>%\n",
        "    summarise(\n",
        "        min = min(var1),\n",
        "        q25 = quantile(var1, 0.25),\n",
        "        mean = mean(var1),\n",
        "        median = median(var1),\n",
        "        q75 = quantile(var1, 0.75),\n",
        "        max = max(var1),\n",
        "        sd = sd(var1),\n",
        "        .by = var4\n",
        "    )"
      ]
    },
    {
      "cell_type": "markdown",
      "metadata": {
        "id": "w0loKVZDmQ1t"
      },
      "source": [
        "This script calculates the correlation between two variables (var1 and var2)\n",
        "from a data frame (df). The `cor` function is used to compute the correlation\n",
        "coefficient, which measures the strength and direction of the linear\n",
        "relationship between the two variables."
      ]
    },
    {
      "cell_type": "code",
      "execution_count": null,
      "metadata": {
        "id": "EAcF0JdamQdD",
        "vscode": {
          "languageId": "r"
        }
      },
      "outputs": [],
      "source": [
        "cor(df$var1, df$var2)"
      ]
    },
    {
      "cell_type": "markdown",
      "metadata": {
        "id": "Rmjcoi1OmU2l"
      },
      "source": [
        "This code snippet calculates the correlation matrix for all numeric columns in a data frame `df`.\n",
        "It performs the following steps:\n",
        "1. Uses the `select()` function with `where(is.numeric)` to filter and select only numeric columns from `df`.\n",
        "2. Passes the selected numeric columns to the `cor()` function to compute the correlation matrix."
      ]
    },
    {
      "cell_type": "code",
      "execution_count": null,
      "metadata": {
        "id": "aBcr-jsVmW8l",
        "vscode": {
          "languageId": "r"
        }
      },
      "outputs": [],
      "source": [
        "df %>%\n",
        "    select(where(is.numeric)) %>%\n",
        "    cor()"
      ]
    },
    {
      "cell_type": "markdown",
      "metadata": {
        "id": "4_aY__jymZt8"
      },
      "source": [
        "This code snippet uses the `count` function from the `dplyr` package to count\n",
        "the occurrences of unique combinations of the variable `var4` in the dataframe `df`."
      ]
    },
    {
      "cell_type": "code",
      "execution_count": null,
      "metadata": {
        "id": "q5LHUhrpmbu_",
        "vscode": {
          "languageId": "r"
        }
      },
      "outputs": [],
      "source": [
        "df %>%\n",
        "    count(var4)"
      ]
    },
    {
      "cell_type": "markdown",
      "metadata": {
        "id": "APwQOLiXmd2e"
      },
      "source": [
        "This code snippet uses the `count` function from the `dplyr` package to count\n",
        "the occurrences of unique combinations of the variables `var4` and `var5`\n",
        "in the dataframe `df`."
      ]
    },
    {
      "cell_type": "code",
      "execution_count": null,
      "metadata": {
        "id": "7OWbz3MLmf05",
        "vscode": {
          "languageId": "r"
        }
      },
      "outputs": [],
      "source": [
        "df %>%\n",
        "    count(var4, var5)"
      ]
    },
    {
      "cell_type": "markdown",
      "metadata": {
        "id": "gw2hYKTvmiEN"
      },
      "source": [
        "## 3.5 Data manipulation\n",
        "\n",
        "This script performs data manipulation on a dataframe `df` using the `dplyr` package.\n",
        "It creates two new variables:\n",
        "1. `var6`: The sum of `var1` and `var2`.\n",
        "2. `var7`: The square of `var6` added to `var1`.\n",
        "Then, it stores the modified dataframe in a new dataframe `df2`."
      ]
    },
    {
      "cell_type": "code",
      "execution_count": null,
      "metadata": {
        "id": "msH145j4mkOB",
        "vscode": {
          "languageId": "r"
        }
      },
      "outputs": [],
      "source": [
        "df2 <- df %>%\n",
        "    mutate(var6 = var1 + var2) %>%\n",
        "    mutate(var7 = var6^2 + var1)"
      ]
    },
    {
      "cell_type": "markdown",
      "metadata": {
        "id": "8v_LsdGwmnko"
      },
      "source": [
        "# 4. Exercises\n",
        "\n",
        "Try to solve these exercises yourself before looking at the solutions below.\n",
        "\n",
        "## Exercise 1: Create a new dataframe\n",
        "\n",
        "1.1 Create a new dataframe df3 with the following columns:\n",
        "    + var1: Numeric vector with 2000 random values drawn from a standard normal distribution (`rnorm`).\n",
        "    + var2: Numeric vector with 2000 random values drawn from a uniform distribution (`runif`).\n",
        "    + var3: Categorical vector with 2000 random values sampled from the letters 'a' to 'h'.\n",
        "1.2 Add a column var4 that represents the product of var1 and var2.\n",
        "1.3 Use the `summary()` function to explore the dataframe.\n",
        "1.4 Use the `summarise()` function to calculate the mean and standard deviation of var4.\n",
        "1.5 Use the `summarise()` function to calculate the mean and standard deviation of var4 grouped by var3.\n",
        "\n",
        "## Exercise 2: Visualize the data\n",
        "\n",
        "Use the dataframe df3 created in Exercise 1 to create the following\n",
        "visualizations:\n",
        "\n",
        "2.1 Create a scatter plot of var1 vs var2.\n",
        "2.2 Create a scatter plot of var1 vs var2, colored by var3.\n",
        "2.3 Create a boxplot of var4 grouped by var3.\n",
        "2.4 Create a histogram of var4 (geom_histogram).\n",
        "\n",
        "## Exercise 3: Data descriptives\n",
        "\n",
        "Use the dataframe df3 created in Exercise 1 for the following tasks:\n",
        "\n",
        "3.1 Get the maximum value of var4.\n",
        "3.2 Get the minimum value of var1.\n",
        "3.3 Get the median value of var2.\n",
        "3.4 Get the correlation between var1 and var2.\n",
        "3.5 Get the correlation matrix for all numeric columns in df3.\n",
        "3.6 Count the number of unique values in var3.\n",
        "\n",
        "## Exercise 4: Data slicing\n",
        "\n",
        "Use the dataframe df3 created in Exercise 1 for the following tasks:\n",
        "\n",
        "4.1 Get the first 10 rows of df3.\n",
        "4.2 Get the last 10 rows of df3.\n",
        "4.3 Get a random sample of 10 rows from df3.\n",
        "4.4 Get the top 10 rows of df3 based on the maximum values of var1.\n",
        "4.5 Get the bottom 10 rows of df3 based on the minimum values of var4.\n",
        "\n",
        "## Solution 1: Create a new dataframe\n",
        "\n",
        "### Exercise 1.1"
      ]
    },
    {
      "cell_type": "code",
      "execution_count": null,
      "metadata": {
        "id": "FwcbyBqVmuST",
        "vscode": {
          "languageId": "r"
        }
      },
      "outputs": [],
      "source": [
        "df3 <- tibble(\n",
        "    var1 = rnorm(2000),\n",
        "    var2 = runif(2000),\n",
        "    var3 = sample(letters[1:8], 2000, replace = TRUE)\n",
        ")"
      ]
    },
    {
      "cell_type": "markdown",
      "metadata": {
        "id": "rWB0bFQMmwIX"
      },
      "source": [
        "### Exercise 1.2"
      ]
    },
    {
      "cell_type": "code",
      "execution_count": null,
      "metadata": {
        "id": "7DVriurmmyw3",
        "vscode": {
          "languageId": "r"
        }
      },
      "outputs": [],
      "source": [
        "df3 <- df3 %>%\n",
        "    mutate(var4 = var1 * var2)"
      ]
    },
    {
      "cell_type": "markdown",
      "metadata": {
        "id": "xigbWdFim1f8"
      },
      "source": [
        "### Exercise 1.3"
      ]
    },
    {
      "cell_type": "code",
      "execution_count": null,
      "metadata": {
        "id": "z1sdBekdm4pH",
        "vscode": {
          "languageId": "r"
        }
      },
      "outputs": [],
      "source": [
        "summary(df3)"
      ]
    },
    {
      "cell_type": "markdown",
      "metadata": {
        "id": "evDgz0lAm6Ll"
      },
      "source": [
        "### Exercise 1.4"
      ]
    },
    {
      "cell_type": "code",
      "execution_count": null,
      "metadata": {
        "id": "16TW8qWIm8fA",
        "vscode": {
          "languageId": "r"
        }
      },
      "outputs": [],
      "source": [
        "df3 %>%\n",
        "    summarise(\n",
        "        mean = mean(var4),\n",
        "        sd = sd(var4)\n",
        "    )"
      ]
    },
    {
      "cell_type": "markdown",
      "metadata": {
        "id": "7ChSrp62m_lu"
      },
      "source": [
        "### Exercise 1.5"
      ]
    },
    {
      "cell_type": "code",
      "execution_count": null,
      "metadata": {
        "id": "rFAEKBuZnBnR",
        "vscode": {
          "languageId": "r"
        }
      },
      "outputs": [],
      "source": [
        "df3 %>%\n",
        "    summarise(\n",
        "        mean = mean(var4),\n",
        "        sd = sd(var4),\n",
        "        .by = var3\n",
        "    )"
      ]
    },
    {
      "cell_type": "markdown",
      "metadata": {
        "id": "FFXKdxVknEpN"
      },
      "source": [
        "## Solution 2: Visualize the data\n",
        "\n",
        "### Exercise 2.1"
      ]
    },
    {
      "cell_type": "code",
      "execution_count": null,
      "metadata": {
        "id": "5Kj-gD2jnKRM",
        "vscode": {
          "languageId": "r"
        }
      },
      "outputs": [],
      "source": [
        "df3 %>%\n",
        "    ggplot() +\n",
        "    geom_point(aes(x = var1, y = var2))"
      ]
    },
    {
      "cell_type": "markdown",
      "metadata": {
        "id": "XrL7xZPkdGjU"
      },
      "source": [
        "### Exercise 2.2"
      ]
    },
    {
      "cell_type": "code",
      "execution_count": null,
      "metadata": {
        "id": "R_zwCKAadJJ2",
        "vscode": {
          "languageId": "r"
        }
      },
      "outputs": [],
      "source": [
        "df3 %>%\n",
        "    ggplot() +\n",
        "    geom_point(aes(x = var1, y = var2, color = var3))"
      ]
    },
    {
      "cell_type": "markdown",
      "metadata": {
        "id": "9xRbDbSRdLUB"
      },
      "source": [
        "### Exercise 2.3"
      ]
    },
    {
      "cell_type": "code",
      "execution_count": null,
      "metadata": {
        "id": "hXmjoti1dNi_",
        "vscode": {
          "languageId": "r"
        }
      },
      "outputs": [],
      "source": [
        "df3 %>%\n",
        "    ggplot() +\n",
        "    geom_boxplot(aes(x = var3, y = var4))"
      ]
    },
    {
      "cell_type": "markdown",
      "metadata": {
        "id": "3mIYq8XbhJ_i"
      },
      "source": [
        "### Exercise 2.4"
      ]
    },
    {
      "cell_type": "code",
      "execution_count": null,
      "metadata": {
        "id": "iU1DCHD4hMgW",
        "vscode": {
          "languageId": "r"
        }
      },
      "outputs": [],
      "source": [
        "df3 %>%\n",
        "    ggplot() +\n",
        "    geom_histogram(aes(x = var4))"
      ]
    },
    {
      "cell_type": "markdown",
      "metadata": {
        "id": "QqLO2NjDhOkG"
      },
      "source": [
        "## Solution 3: Data descriptives\n",
        "\n",
        "### Exercise 3.1"
      ]
    },
    {
      "cell_type": "code",
      "execution_count": null,
      "metadata": {
        "id": "ymVisCuChRAd",
        "vscode": {
          "languageId": "r"
        }
      },
      "outputs": [],
      "source": [
        "max(df3$var4)\n",
        "df3 %>%\n",
        "    summarise(max = max(var4))"
      ]
    },
    {
      "cell_type": "markdown",
      "metadata": {
        "id": "kh1BYlqqhVOB"
      },
      "source": [
        "### Exercise 3.2"
      ]
    },
    {
      "cell_type": "code",
      "execution_count": null,
      "metadata": {
        "id": "59irHuZ5hXkR",
        "vscode": {
          "languageId": "r"
        }
      },
      "outputs": [],
      "source": [
        "min(df3$var1)\n",
        "df3 %>%\n",
        "    summarise(min = min(var1))"
      ]
    },
    {
      "cell_type": "markdown",
      "metadata": {
        "id": "QZVSrms8hZev"
      },
      "source": [
        "### Exercise 3.3"
      ]
    },
    {
      "cell_type": "code",
      "execution_count": null,
      "metadata": {
        "id": "brvAs-wRhb2r",
        "vscode": {
          "languageId": "r"
        }
      },
      "outputs": [],
      "source": [
        "median(df3$var2)\n",
        "df3 %>%\n",
        "    summarise(median = median(var2))"
      ]
    },
    {
      "cell_type": "markdown",
      "metadata": {
        "id": "6e15yo3thg78"
      },
      "source": [
        "### Exercise 3.4"
      ]
    },
    {
      "cell_type": "code",
      "execution_count": null,
      "metadata": {
        "id": "AqEv9EJRhjj0",
        "vscode": {
          "languageId": "r"
        }
      },
      "outputs": [],
      "source": [
        "cor(df3$var1, df3$var2)\n",
        "df3 %>%\n",
        "    select(var1, var2) %>%\n",
        "    cor()"
      ]
    },
    {
      "cell_type": "markdown",
      "metadata": {
        "id": "YXNs61Y7hljy"
      },
      "source": [
        "### Exercise 3.5"
      ]
    },
    {
      "cell_type": "code",
      "execution_count": null,
      "metadata": {
        "id": "8ldM3TpEhtCg",
        "vscode": {
          "languageId": "r"
        }
      },
      "outputs": [],
      "source": [
        "df3 %>%\n",
        "    select(where(is.numeric)) %>%\n",
        "    cor()"
      ]
    },
    {
      "cell_type": "markdown",
      "metadata": {
        "id": "yJuoTNxXhu0u"
      },
      "source": [
        "### Exercise 3.6"
      ]
    },
    {
      "cell_type": "code",
      "execution_count": null,
      "metadata": {
        "id": "tZnIRzKchwwg",
        "vscode": {
          "languageId": "r"
        }
      },
      "outputs": [],
      "source": [
        "df3 %>%\n",
        "    count(var3)"
      ]
    },
    {
      "cell_type": "markdown",
      "metadata": {
        "id": "EKmXni-DiDL0"
      },
      "source": [
        "## Solution 4: Data slicing\n",
        "\n",
        "### Exercise 4.1"
      ]
    },
    {
      "cell_type": "code",
      "execution_count": null,
      "metadata": {
        "id": "j9jQcpN1iFoZ",
        "vscode": {
          "languageId": "r"
        }
      },
      "outputs": [],
      "source": [
        "df3 %>%\n",
        "    slice_head(n = 10)"
      ]
    },
    {
      "cell_type": "markdown",
      "metadata": {
        "id": "86jf0VkZiNTy"
      },
      "source": [
        "### Exercise 4.2"
      ]
    },
    {
      "cell_type": "code",
      "execution_count": null,
      "metadata": {
        "id": "PCoSnIXSiPXb",
        "vscode": {
          "languageId": "r"
        }
      },
      "outputs": [],
      "source": [
        "df3 %>%\n",
        "    slice_tail(n = 10)"
      ]
    },
    {
      "cell_type": "markdown",
      "metadata": {
        "id": "aDDOIIc5iVje"
      },
      "source": [
        "### Exercise 4.3"
      ]
    },
    {
      "cell_type": "code",
      "execution_count": null,
      "metadata": {
        "id": "hz67upKviSnR",
        "vscode": {
          "languageId": "r"
        }
      },
      "outputs": [],
      "source": [
        "df3 %>%\n",
        "    slice_sample(n = 10)"
      ]
    },
    {
      "cell_type": "markdown",
      "metadata": {
        "id": "UjdAgeO8iZxq"
      },
      "source": [
        "### Exercise 4.4"
      ]
    },
    {
      "cell_type": "code",
      "execution_count": null,
      "metadata": {
        "id": "9Fw80cEgmr3c",
        "vscode": {
          "languageId": "r"
        }
      },
      "outputs": [],
      "source": [
        "df3 %>%\n",
        "    slice_max(order_by = var1, n = 10)"
      ]
    },
    {
      "cell_type": "markdown",
      "metadata": {
        "id": "6-2Jq-B8lTwK"
      },
      "source": [
        "### Exercise 4.5"
      ]
    },
    {
      "cell_type": "code",
      "execution_count": null,
      "metadata": {
        "id": "FqPtwYtJlQux",
        "vscode": {
          "languageId": "r"
        }
      },
      "outputs": [],
      "source": [
        "df3 %>%\n",
        "    slice_min(order_by = var4, n = 10)"
      ]
    }
  ],
  "metadata": {
    "colab": {
      "authorship_tag": "ABX9TyN32YnVDkBH6+AOyEXOXkIM",
      "include_colab_link": true,
      "provenance": []
    },
    "kernelspec": {
      "display_name": "R",
      "name": "ir"
    },
    "language_info": {
      "name": "R"
    }
  },
  "nbformat": 4,
  "nbformat_minor": 0
}
