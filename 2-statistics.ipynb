{
  "cells": [
    {
      "cell_type": "markdown",
      "metadata": {
        "colab_type": "text",
        "id": "view-in-github"
      },
      "source": [
        "<a href=\"https://colab.research.google.com/github/ha-pu/data_course/blob/Google_Colab/2-statistics.ipynb\" target=\"_parent\"><img src=\"https://colab.research.google.com/assets/colab-badge.svg\" alt=\"Open In Colab\"/></a>"
      ]
    },
    {
      "cell_type": "markdown",
      "metadata": {
        "id": "aaiDKLvmk0jS"
      },
      "source": [
        "+ title: Basic Statistics\n",
        "+ author: Harald Puhr\n",
        "+ date: April 21, 2025\n",
        "\n",
        "[Data Source](https://github.com/ha-pu/data_files/tree/main#user-knowledge-modeling-dataset)\n",
        "\n",
        "# Load tidyverse package and data"
      ]
    },
    {
      "cell_type": "code",
      "execution_count": null,
      "metadata": {
        "vscode": {
          "languageId": "r"
        }
      },
      "outputs": [],
      "source": [
        "install.packages(\"tidyverse\")"
      ]
    },
    {
      "cell_type": "code",
      "execution_count": null,
      "metadata": {
        "id": "HiFo8P9Mkq2H",
        "vscode": {
          "languageId": "r"
        }
      },
      "outputs": [],
      "source": [
        "library(tidyverse)"
      ]
    },
    {
      "cell_type": "code",
      "execution_count": null,
      "metadata": {
        "vscode": {
          "languageId": "r"
        }
      },
      "outputs": [],
      "source": [
        "df <- read_csv(\"https://raw.githubusercontent.com/ha-pu/data_files/refs/heads/main/1-user_knowledge.csv\")\n",
        "df$UNS <- factor(df$UNS, levels = c(\"Very Low\", \"Low\", \"Middle\", \"High\"))"
      ]
    },
    {
      "cell_type": "markdown",
      "metadata": {},
      "source": [
        "# Get frequency of skill levels"
      ]
    },
    {
      "cell_type": "code",
      "execution_count": null,
      "metadata": {
        "vscode": {
          "languageId": "r"
        }
      },
      "outputs": [],
      "source": [
        "count(df, UNS)"
      ]
    },
    {
      "cell_type": "markdown",
      "metadata": {},
      "source": [
        "# Analyze study effort by skill level"
      ]
    },
    {
      "cell_type": "code",
      "execution_count": null,
      "metadata": {
        "vscode": {
          "languageId": "r"
        }
      },
      "outputs": [],
      "source": [
        "summarise(\n",
        "    df,\n",
        "    n = n(),\n",
        "    across(c(STG, SCG, STR, LPR, PEG), mean),\n",
        "    .by = UNS\n",
        ") %>%\n",
        "    arrange(UNS)"
      ]
    },
    {
      "cell_type": "markdown",
      "metadata": {},
      "source": [
        "## Questions\n",
        "\n",
        "+ Are there immediate takeaways for our efforts to increase skills (UNS)?\n",
        "+ Is there one effort-related variables that stands out?\n",
        "\n",
        "# Distribution of study effort"
      ]
    },
    {
      "cell_type": "code",
      "execution_count": null,
      "metadata": {
        "vscode": {
          "languageId": "r"
        }
      },
      "outputs": [],
      "source": [
        "df %>%\n",
        "    pivot_longer(\n",
        "        cols = c(STG, SCG, STR, LPR, PEG),\n",
        "        names_to = \"knowledge\",\n",
        "        values_to = \"value\"\n",
        "    ) %>%\n",
        "    ggplot() +\n",
        "    geom_histogram(aes(value), bins = 25) +\n",
        "    facet_wrap(~knowledge) +\n",
        "    theme_bw()"
      ]
    },
    {
      "cell_type": "markdown",
      "metadata": {},
      "source": [
        "## Questions\n",
        "\n",
        "+ What do you see in the distribution of study effort variables?\n",
        "+ How do the distributions differentiate?\n",
        "+ Are there immediate takeaways for our efforts to increase skills (UNS)?\n",
        "\n",
        "# Boxplot of study effort by skill level"
      ]
    },
    {
      "cell_type": "code",
      "execution_count": null,
      "metadata": {
        "vscode": {
          "languageId": "r"
        }
      },
      "outputs": [],
      "source": [
        "df %>%\n",
        "    pivot_longer(\n",
        "        cols = c(STG, SCG, STR, LPR, PEG),\n",
        "        names_to = \"knowledge\",\n",
        "        values_to = \"value\"\n",
        "    ) %>%\n",
        "    ggplot() +\n",
        "    geom_boxplot(aes(x = UNS, y = value)) +\n",
        "    facet_wrap(~knowledge) +\n",
        "    theme_bw()"
      ]
    },
    {
      "cell_type": "markdown",
      "metadata": {},
      "source": [
        "## Questions\n",
        "\n",
        "+ Do the boxplots tell us anything about the relevance of the study effort variables?\n",
        "+ Are there immediate takeaways for our efforts to increase skills (UNS)?\n",
        "\n",
        "# Correlation between study effort variables"
      ]
    },
    {
      "cell_type": "code",
      "execution_count": null,
      "metadata": {
        "vscode": {
          "languageId": "r"
        }
      },
      "outputs": [],
      "source": [
        "df %>%\n",
        "    select(-UNS) %>%\n",
        "    cor()"
      ]
    },
    {
      "cell_type": "code",
      "execution_count": null,
      "metadata": {
        "vscode": {
          "languageId": "r"
        }
      },
      "outputs": [],
      "source": [
        "df %>%\n",
        "    select(-UNS) %>%\n",
        "    cor() %>%\n",
        "    as_tibble(rownames = \"Var1\") %>%\n",
        "    pivot_longer(\n",
        "        cols = -Var1,\n",
        "        names_to = \"Var2\",\n",
        "        values_to = \"Correlation\"\n",
        "    ) %>%\n",
        "    ggplot() +\n",
        "    geom_tile(aes(x = Var1, y = Var2, fill = Correlation)) +\n",
        "    labs(\n",
        "        x = NULL,\n",
        "        y = NULL\n",
        "    ) +\n",
        "    theme_bw()"
      ]
    },
    {
      "cell_type": "markdown",
      "metadata": {},
      "source": [
        "## Questions\n",
        "\n",
        "+ Are there any interesting correlations between study effort variables?\n",
        "+ Are there immediate takeaways for our efforts to increase skills (UNS)?\n",
        "\n",
        "# Test the statistical signficance of differences between skill levels"
      ]
    },
    {
      "cell_type": "code",
      "execution_count": null,
      "metadata": {
        "vscode": {
          "languageId": "r"
        }
      },
      "outputs": [],
      "source": [
        "df <- mutate(\n",
        "    df,\n",
        "    upper_half = UNS %in% c(\"High\", \"Middle\"),\n",
        "    top = UNS == \"High\"\n",
        ")"
      ]
    },
    {
      "cell_type": "code",
      "execution_count": null,
      "metadata": {
        "vscode": {
          "languageId": "r"
        }
      },
      "outputs": [],
      "source": [
        "t.test(STG ~ upper_half, data = df)"
      ]
    },
    {
      "cell_type": "code",
      "execution_count": null,
      "metadata": {
        "vscode": {
          "languageId": "r"
        }
      },
      "outputs": [],
      "source": [
        "t.test(STG ~ top, data = df)"
      ]
    },
    {
      "cell_type": "code",
      "execution_count": null,
      "metadata": {
        "vscode": {
          "languageId": "r"
        }
      },
      "outputs": [],
      "source": [
        "out <- aov(STG ~ UNS, data = df)\n",
        "summary(out)"
      ]
    },
    {
      "cell_type": "markdown",
      "metadata": {},
      "source": [
        "## Questions\n",
        "\n",
        "+ How are these results different from the previous ones?\n",
        "+ What do you think about the results of the t-test and ANOVA?\n",
        "+ Are there immediate takeaways for our efforts to increase skills (UNS)?\n",
        "+ What analyses should we do next?\n"
      ]
    }
  ],
  "metadata": {
    "colab": {
      "authorship_tag": "ABX9TyN32YnVDkBH6+AOyEXOXkIM",
      "include_colab_link": true,
      "provenance": []
    },
    "kernelspec": {
      "display_name": "R",
      "name": "ir"
    },
    "language_info": {
      "name": "R"
    }
  },
  "nbformat": 4,
  "nbformat_minor": 0
}
