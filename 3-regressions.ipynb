{
  "cells": [
    {
      "cell_type": "markdown",
      "metadata": {
        "colab_type": "text",
        "id": "view-in-github"
      },
      "source": [
        "<a href=\"https://colab.research.google.com/github/ha-pu/data_course/blob/Google_Colab/3-regressions.ipynb\" target=\"_parent\"><img src=\"https://colab.research.google.com/assets/colab-badge.svg\" alt=\"Open In Colab\"/></a>"
      ]
    },
    {
      "cell_type": "markdown",
      "metadata": {
        "id": "aaiDKLvmk0jS"
      },
      "source": [
        "+ title: Regression Analysis\n",
        "+ author: Harald Puhr\n",
        "+ date: July 20, 2025\n",
        "\n",
        "[Data Source](https://github.com/ha-pu/data_files/blob/main/README.md#car-evaluation-dataset)\n",
        "\n",
        "# Load tidyverse package and data"
      ]
    },
    {
      "cell_type": "code",
      "execution_count": null,
      "metadata": {
        "vscode": {
          "languageId": "plaintext"
        }
      },
      "outputs": [],
      "source": [
        "install.packages(c(\"sjPlot\", \"tidverse\"))"
      ]
    },
    {
      "cell_type": "code",
      "execution_count": null,
      "metadata": {
        "vscode": {
          "languageId": "plaintext"
        }
      },
      "outputs": [],
      "source": [
        "library(sjPlot)\n",
        "library(tidyverse)"
      ]
    },
    {
      "cell_type": "code",
      "execution_count": null,
      "metadata": {
        "vscode": {
          "languageId": "plaintext"
        }
      },
      "outputs": [],
      "source": [
        "df <- read_csv(\"https://raw.githubusercontent.com/ha-pu/data_files/refs/heads/main/2-car_acceptance.csv\")"
      ]
    },
    {
      "cell_type": "markdown",
      "metadata": {},
      "source": [
        "Code variables `lug_boot`, `safety`, `doors`, and `persons` as type factor to\n",
        "better handle categorical data."
      ]
    },
    {
      "cell_type": "code",
      "execution_count": null,
      "metadata": {
        "vscode": {
          "languageId": "plaintext"
        }
      },
      "outputs": [],
      "source": [
        "df$lug_boot <- factor(df$lug_boot, levels = c(\"FALSE\", \"TRUE\"))\n",
        "df$safety <- factor(df$safety, levels = c(\"low\", \"med\", \"high\"))\n",
        "df$doors <- factor(df$doors, levels = c(\"2\", \"3\", \"4\", \"5more\"))\n",
        "df$persons <- factor(df$persons, levels = c(\"2\", \"4\", \"more\"))"
      ]
    },
    {
      "cell_type": "markdown",
      "metadata": {},
      "source": [
        "# Basic data exploration"
      ]
    },
    {
      "cell_type": "code",
      "execution_count": null,
      "metadata": {
        "vscode": {
          "languageId": "plaintext"
        }
      },
      "outputs": [],
      "source": [
        "slice_head(df)"
      ]
    },
    {
      "cell_type": "code",
      "execution_count": null,
      "metadata": {
        "vscode": {
          "languageId": "plaintext"
        }
      },
      "outputs": [],
      "source": [
        "glimpse(df)"
      ]
    },
    {
      "cell_type": "code",
      "execution_count": null,
      "metadata": {
        "vscode": {
          "languageId": "plaintext"
        }
      },
      "outputs": [],
      "source": [
        "summary(df)"
      ]
    },
    {
      "cell_type": "code",
      "execution_count": null,
      "metadata": {
        "vscode": {
          "languageId": "plaintext"
        }
      },
      "outputs": [],
      "source": [
        "df %>%\n",
        "    ggplot() +\n",
        "    geom_histogram(aes(x = class), bins = 25) +\n",
        "    theme_bw()"
      ]
    },
    {
      "cell_type": "code",
      "execution_count": null,
      "metadata": {
        "vscode": {
          "languageId": "plaintext"
        }
      },
      "outputs": [],
      "source": [
        "df %>%\n",
        "    select(where(is.numeric)) %>%\n",
        "    cor()"
      ]
    },
    {
      "cell_type": "markdown",
      "metadata": {},
      "source": [
        "# Intercept-only model\n",
        "\n",
        "## Fit model"
      ]
    },
    {
      "cell_type": "code",
      "execution_count": null,
      "metadata": {
        "vscode": {
          "languageId": "plaintext"
        }
      },
      "outputs": [],
      "source": [
        "mod1 <- lm(class ~ 1, data = df)"
      ]
    },
    {
      "cell_type": "code",
      "execution_count": null,
      "metadata": {
        "vscode": {
          "languageId": "plaintext"
        }
      },
      "outputs": [],
      "source": [
        "summary(mod1)"
      ]
    },
    {
      "cell_type": "markdown",
      "metadata": {},
      "source": [
        "The function `tab_model` from the package sjPlot returns similar information as\n",
        "`summary` but formats it more nicely. In this script, we will continue working\n",
        "with `tab_model` instead of `summary` to analyze our models."
      ]
    },
    {
      "cell_type": "code",
      "execution_count": null,
      "metadata": {
        "vscode": {
          "languageId": "plaintext"
        }
      },
      "outputs": [],
      "source": [
        "tab_model(mod1)"
      ]
    },
    {
      "cell_type": "markdown",
      "metadata": {},
      "source": [
        "## Questions\n",
        "\n",
        "+ Does the intercept-only model tell us anything about the data?\n",
        "+ Would you rely on this model alone for anything actionable?\n",
        "+ What does this model actually predict?\n",
        "\n",
        "# Direct effects model\n",
        "\n",
        "## Fit model"
      ]
    },
    {
      "cell_type": "code",
      "execution_count": null,
      "metadata": {
        "vscode": {
          "languageId": "plaintext"
        }
      },
      "outputs": [],
      "source": [
        "mod2 <- lm(class ~ doors + persons + lug_boot + safety, data = df)\n",
        "mod3 <- lm(class ~ buying + maint, data = df)\n",
        "mod4 <- lm(class ~ doors + persons + lug_boot + safety + buying + maint, data = df)"
      ]
    },
    {
      "cell_type": "code",
      "execution_count": null,
      "metadata": {
        "vscode": {
          "languageId": "plaintext"
        }
      },
      "outputs": [],
      "source": [
        "tab_model(mod2, mod3, mod4)"
      ]
    },
    {
      "cell_type": "code",
      "execution_count": null,
      "metadata": {
        "vscode": {
          "languageId": "plaintext"
        }
      },
      "outputs": [],
      "source": [
        "tibble(\n",
        "    actual = df$class,\n",
        "    mod2 = predict(mod2),\n",
        "    mod3 = predict(mod3),\n",
        "    mod4 = predict(mod4)\n",
        ") %>%\n",
        "    pivot_longer(cols = -actual) %>%\n",
        "    ggplot() +\n",
        "    geom_point(aes(x = actual, y = value, colour = name)) +\n",
        "    geom_smooth(aes(x = actual, y = value, colour = name), method = \"lm\", se = FALSE) +\n",
        "    geom_abline(slope = 1, intercept = 0) +\n",
        "    labs(\n",
        "        x = \"Actual class\",\n",
        "        y = \"Predicted class\",\n",
        "        colour = NULL\n",
        "    ) +\n",
        "    theme_bw()"
      ]
    },
    {
      "cell_type": "markdown",
      "metadata": {},
      "source": [
        "## Questions\n",
        "\n",
        "+ What should the product managers do to increase the car acceptance?\n",
        "+ How does a discount of 5,000 USD on the price affect the car acceptance?\n",
        "+ Which features have the strongest relationship with acceptance? Why might that\n",
        "  be the case?\n",
        "+ Why might the number of doors have a small effect on class?\n",
        "+ Model 4 has the highest R-squared. Why does adding price-related features\n",
        "  improve it?\n",
        "\n",
        "# Interaction metric x metric\n",
        "\n",
        "We can add an interaction term, a multiplicative relationship between two\n",
        "variables, by adding a term `var1:var2` to the regression equation.\n",
        "\n",
        "## Fit model"
      ]
    },
    {
      "cell_type": "code",
      "execution_count": null,
      "metadata": {
        "vscode": {
          "languageId": "plaintext"
        }
      },
      "outputs": [],
      "source": [
        "mod5 <- lm(class ~ doors + persons + lug_boot + safety + buying + maint + buying:maint, data = df)"
      ]
    },
    {
      "cell_type": "code",
      "execution_count": null,
      "metadata": {
        "vscode": {
          "languageId": "plaintext"
        }
      },
      "outputs": [],
      "source": [
        "tab_model(mod5)"
      ]
    },
    {
      "cell_type": "code",
      "execution_count": null,
      "metadata": {
        "vscode": {
          "languageId": "plaintext"
        }
      },
      "outputs": [],
      "source": [
        "plot_model(mod5, type = \"pred\", terms = c(\"buying\", \"maint\"))"
      ]
    },
    {
      "cell_type": "markdown",
      "metadata": {
        "vscode": {
          "languageId": "plaintext"
        }
      },
      "source": [
        "## Questions\n",
        "\n",
        "+ Should your marketing department offer a discount on maintenance for new\n",
        "  customers?\n",
        "+ How might the effect of buying on car acceptance depend on the level of\n",
        "  maintenance?\n",
        "+ Is the direction of the interaction consistent with what you might expect in\n",
        "  real life?\n",
        "+ Do you think a simple additive model is enough for understanding how\n",
        "  price-related factors influence car acceptance?\n",
        "\n",
        "# Interaction metric x factor\n",
        "\n",
        "## Fit model"
      ]
    },
    {
      "cell_type": "code",
      "execution_count": null,
      "metadata": {
        "vscode": {
          "languageId": "plaintext"
        }
      },
      "outputs": [],
      "source": [
        "mod6 <- lm(class ~ doors + persons + lug_boot + safety + buying + maint + buying:lug_boot, data = df)\n",
        "mod7 <- lm(class ~ doors + persons + lug_boot + safety + buying + maint + buying:safety, data = df)"
      ]
    },
    {
      "cell_type": "code",
      "execution_count": null,
      "metadata": {
        "vscode": {
          "languageId": "plaintext"
        }
      },
      "outputs": [],
      "source": [
        "tab_model(mod6)"
      ]
    },
    {
      "cell_type": "code",
      "execution_count": null,
      "metadata": {
        "vscode": {
          "languageId": "plaintext"
        }
      },
      "outputs": [],
      "source": [
        "plot_model(mod6, type = \"pred\", terms = c(\"buying\", \"lug_boot\"))"
      ]
    },
    {
      "cell_type": "code",
      "execution_count": null,
      "metadata": {
        "vscode": {
          "languageId": "plaintext"
        }
      },
      "outputs": [],
      "source": [
        "tab_model(mod7)"
      ]
    },
    {
      "cell_type": "code",
      "execution_count": null,
      "metadata": {
        "vscode": {
          "languageId": "plaintext"
        }
      },
      "outputs": [],
      "source": [
        "plot_model(mod7, type = \"pred\", terms = c(\"buying\", \"safety\"))"
      ]
    },
    {
      "cell_type": "markdown",
      "metadata": {},
      "source": [
        "## Questions\n",
        "\n",
        "+ Does greater storage space justify a higher price?\n",
        "+ The interaction term `buying:lug_bootTRUE` is negative and significant. What\n",
        "  does this tell us?\n",
        "+ Look at the main effect of `lug_bootTRUE` and the interaction. How do these\n",
        "  work together?\n",
        "+ Why might the benefit of a large luggage space decrease as a car becomes more\n",
        "  expensive?\n",
        "+ Does this interaction feel intuitive in a real-world consumer context? If not,\n",
        "  what might explain it?\n",
        "+ Does a higher safety level justify a higher price?\n",
        "+ Why might higher-priced safe cars get lower class scores?\n",
        "+ Do you think the price of a car should influence class more or less when the\n",
        "  car is very safe? Why?\n",
        "\n",
        "# Interaction factor x factor\n",
        "\n",
        "## Fit model"
      ]
    },
    {
      "cell_type": "code",
      "execution_count": null,
      "metadata": {
        "vscode": {
          "languageId": "plaintext"
        }
      },
      "outputs": [],
      "source": [
        "mod8 <- lm(class ~ doors + persons + lug_boot + safety + buying + maint + lug_boot:safety, data = df)"
      ]
    },
    {
      "cell_type": "code",
      "execution_count": null,
      "metadata": {
        "vscode": {
          "languageId": "plaintext"
        }
      },
      "outputs": [],
      "source": [
        "tab_model(mod8)"
      ]
    },
    {
      "cell_type": "code",
      "execution_count": null,
      "metadata": {
        "vscode": {
          "languageId": "plaintext"
        }
      },
      "outputs": [],
      "source": [
        "plot_model(mod8, type = \"pred\", terms = c(\"lug_boot\", \"safety\"))"
      ]
    },
    {
      "cell_type": "markdown",
      "metadata": {
        "vscode": {
          "languageId": "plaintext"
        }
      },
      "source": [
        "## Questions\n",
        "\n",
        "+ Does greater storage space balance lower safety levels?\n",
        "+ The main effect of `lug_bootTRUE` is not significant, but both interactions\n",
        "  with safety are highly significant. What does this imply?\n",
        "+ How do these numbers change the story about the value of trunk space?\n",
        "+ Imagine two cars with the same features, except one has a big trunk. When\n",
        "  would that big trunk boost the car's predicted class score?\n",
        "+ Why might a large trunk be more valued when the car is also moderately or\n",
        "  highly safe?\n",
        "+ Does the model suggest that trunk size matters more for safer vehicles?\n",
        "\n",
        "# Logistic regression\n",
        "\n",
        "## Transform binary variable from factor to logical\n",
        "\n",
        "We had to transform the `lug_boot` variable to factor for some of the functions\n",
        "used above. Now we will transform it back to a logical variable for the logistic\n",
        "regression.\n"
      ]
    },
    {
      "cell_type": "code",
      "execution_count": null,
      "metadata": {
        "vscode": {
          "languageId": "plaintext"
        }
      },
      "outputs": [],
      "source": [
        "df$lug_boot <- df$lug_boot == \"TRUE\""
      ]
    },
    {
      "cell_type": "markdown",
      "metadata": {},
      "source": [
        "## Fit model"
      ]
    },
    {
      "cell_type": "code",
      "execution_count": null,
      "metadata": {
        "vscode": {
          "languageId": "plaintext"
        }
      },
      "outputs": [],
      "source": [
        "mod9 <- glm(lug_boot ~ class + doors + safety + buying + maint, data = df, family = binomial(link = \"logit\"))"
      ]
    },
    {
      "cell_type": "code",
      "execution_count": null,
      "metadata": {
        "vscode": {
          "languageId": "plaintext"
        }
      },
      "outputs": [],
      "source": [
        "tab_model(mod9, transform = NULL)"
      ]
    },
    {
      "cell_type": "code",
      "execution_count": null,
      "metadata": {
        "vscode": {
          "languageId": "plaintext"
        }
      },
      "outputs": [],
      "source": [
        "tab_model(mod9)"
      ]
    }
  ],
  "metadata": {
    "colab": {
      "authorship_tag": "ABX9TyN32YnVDkBH6+AOyEXOXkIM",
      "include_colab_link": true,
      "provenance": []
    },
    "kernelspec": {
      "display_name": "R",
      "name": "ir"
    },
    "language_info": {
      "name": "R"
    }
  },
  "nbformat": 4,
  "nbformat_minor": 0
}
